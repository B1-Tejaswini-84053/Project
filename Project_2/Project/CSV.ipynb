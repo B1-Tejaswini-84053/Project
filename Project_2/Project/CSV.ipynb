{
 "cells": [
  {
   "cell_type": "markdown",
   "id": "23b6c94e-2b8d-4fd2-a435-f8dc2b8b434d",
   "metadata": {},
   "source": [
    "# Loan Eligibility Prediction"
   ]
  },
  {
   "cell_type": "markdown",
   "id": "157101a1-c9e4-45df-a237-639178abf9ba",
   "metadata": {},
   "source": [
    "### import require packages"
   ]
  },
  {
   "cell_type": "code",
   "execution_count": 1,
   "id": "ad6cef60-8181-4fca-9b40-4761cca63f00",
   "metadata": {},
   "outputs": [],
   "source": [
    "import pandas as pd\n",
    "import numpy as np\n",
    "import matplotlib.pyplot as plt\n",
    "import seaborn as sns\n",
    "%matplotlib inline\n",
    "pd.pandas.set_option('display.max_columns',None)"
   ]
  },
  {
   "cell_type": "markdown",
   "id": "01916d3f-5089-4922-bd99-b968cdd6e54c",
   "metadata": {},
   "source": [
    "# 1. Load the Dataset"
   ]
  },
  {
   "cell_type": "code",
   "execution_count": 2,
   "id": "b9eacbe2-638c-48bd-9040-86db32c6c246",
   "metadata": {},
   "outputs": [],
   "source": [
    "df = pd.read_csv(\"Loan_default.csv\")"
   ]
  },
  {
   "cell_type": "markdown",
   "id": "1c196949-1b50-451a-ab05-b09cf9f5e72b",
   "metadata": {},
   "source": [
    "# 2. Perform Exploratory Data Analysis or Data preprocessing"
   ]
  },
  {
   "cell_type": "code",
   "execution_count": 3,
   "id": "9ed5029d-8a05-4e0a-92ba-d5297b9c76d8",
   "metadata": {},
   "outputs": [
    {
     "data": {
      "text/plain": [
       "(255347, 18)"
      ]
     },
     "execution_count": 3,
     "metadata": {},
     "output_type": "execute_result"
    }
   ],
   "source": [
    "df.shape"
   ]
  },
  {
   "cell_type": "code",
   "execution_count": 4,
   "id": "f2f51573-4e07-409b-b2c9-825ded4dcb5b",
   "metadata": {},
   "outputs": [
    {
     "data": {
      "text/html": [
       "<div>\n",
       "<style scoped>\n",
       "    .dataframe tbody tr th:only-of-type {\n",
       "        vertical-align: middle;\n",
       "    }\n",
       "\n",
       "    .dataframe tbody tr th {\n",
       "        vertical-align: top;\n",
       "    }\n",
       "\n",
       "    .dataframe thead th {\n",
       "        text-align: right;\n",
       "    }\n",
       "</style>\n",
       "<table border=\"1\" class=\"dataframe\">\n",
       "  <thead>\n",
       "    <tr style=\"text-align: right;\">\n",
       "      <th></th>\n",
       "      <th>LoanID</th>\n",
       "      <th>Age</th>\n",
       "      <th>Income</th>\n",
       "      <th>LoanAmount</th>\n",
       "      <th>CreditScore</th>\n",
       "      <th>MonthsEmployed</th>\n",
       "      <th>NumCreditLines</th>\n",
       "      <th>InterestRate</th>\n",
       "      <th>LoanTerm</th>\n",
       "      <th>DTIRatio</th>\n",
       "      <th>Education</th>\n",
       "      <th>EmploymentType</th>\n",
       "      <th>MaritalStatus</th>\n",
       "      <th>HasMortgage</th>\n",
       "      <th>HasDependents</th>\n",
       "      <th>LoanPurpose</th>\n",
       "      <th>HasCoSigner</th>\n",
       "      <th>Default</th>\n",
       "    </tr>\n",
       "  </thead>\n",
       "  <tbody>\n",
       "    <tr>\n",
       "      <th>0</th>\n",
       "      <td>I38PQUQS96</td>\n",
       "      <td>56.0</td>\n",
       "      <td>85994.0</td>\n",
       "      <td>50587.0</td>\n",
       "      <td>520</td>\n",
       "      <td>80</td>\n",
       "      <td>4</td>\n",
       "      <td>15.23</td>\n",
       "      <td>36</td>\n",
       "      <td>0.44</td>\n",
       "      <td>Bachelor's</td>\n",
       "      <td>Full-time</td>\n",
       "      <td>Divorced</td>\n",
       "      <td>Yes</td>\n",
       "      <td>Yes</td>\n",
       "      <td>Other</td>\n",
       "      <td>Yes</td>\n",
       "      <td>0</td>\n",
       "    </tr>\n",
       "    <tr>\n",
       "      <th>1</th>\n",
       "      <td>HPSK72WA7R</td>\n",
       "      <td>69.0</td>\n",
       "      <td>50432.0</td>\n",
       "      <td>124440.0</td>\n",
       "      <td>458</td>\n",
       "      <td>15</td>\n",
       "      <td>1</td>\n",
       "      <td>4.81</td>\n",
       "      <td>60</td>\n",
       "      <td>0.68</td>\n",
       "      <td>Master's</td>\n",
       "      <td>Full-time</td>\n",
       "      <td>Married</td>\n",
       "      <td>No</td>\n",
       "      <td>No</td>\n",
       "      <td>Other</td>\n",
       "      <td>Yes</td>\n",
       "      <td>0</td>\n",
       "    </tr>\n",
       "    <tr>\n",
       "      <th>2</th>\n",
       "      <td>C1OZ6DPJ8Y</td>\n",
       "      <td>46.0</td>\n",
       "      <td>84208.0</td>\n",
       "      <td>129188.0</td>\n",
       "      <td>451</td>\n",
       "      <td>26</td>\n",
       "      <td>3</td>\n",
       "      <td>21.17</td>\n",
       "      <td>24</td>\n",
       "      <td>0.31</td>\n",
       "      <td>Master's</td>\n",
       "      <td>Unemployed</td>\n",
       "      <td>Divorced</td>\n",
       "      <td>Yes</td>\n",
       "      <td>Yes</td>\n",
       "      <td>Auto</td>\n",
       "      <td>No</td>\n",
       "      <td>1</td>\n",
       "    </tr>\n",
       "    <tr>\n",
       "      <th>3</th>\n",
       "      <td>V2KKSFM3UN</td>\n",
       "      <td>32.0</td>\n",
       "      <td>31713.0</td>\n",
       "      <td>44799.0</td>\n",
       "      <td>743</td>\n",
       "      <td>0</td>\n",
       "      <td>3</td>\n",
       "      <td>7.07</td>\n",
       "      <td>24</td>\n",
       "      <td>0.23</td>\n",
       "      <td>High School</td>\n",
       "      <td>Full-time</td>\n",
       "      <td>Married</td>\n",
       "      <td>No</td>\n",
       "      <td>No</td>\n",
       "      <td>Business</td>\n",
       "      <td>No</td>\n",
       "      <td>0</td>\n",
       "    </tr>\n",
       "    <tr>\n",
       "      <th>4</th>\n",
       "      <td>EY08JDHTZP</td>\n",
       "      <td>60.0</td>\n",
       "      <td>20437.0</td>\n",
       "      <td>9139.0</td>\n",
       "      <td>633</td>\n",
       "      <td>8</td>\n",
       "      <td>4</td>\n",
       "      <td>6.51</td>\n",
       "      <td>48</td>\n",
       "      <td>0.73</td>\n",
       "      <td>Bachelor's</td>\n",
       "      <td>Unemployed</td>\n",
       "      <td>Divorced</td>\n",
       "      <td>No</td>\n",
       "      <td>Yes</td>\n",
       "      <td>Auto</td>\n",
       "      <td>NaN</td>\n",
       "      <td>0</td>\n",
       "    </tr>\n",
       "  </tbody>\n",
       "</table>\n",
       "</div>"
      ],
      "text/plain": [
       "       LoanID   Age   Income  LoanAmount  CreditScore  MonthsEmployed  \\\n",
       "0  I38PQUQS96  56.0  85994.0     50587.0          520              80   \n",
       "1  HPSK72WA7R  69.0  50432.0    124440.0          458              15   \n",
       "2  C1OZ6DPJ8Y  46.0  84208.0    129188.0          451              26   \n",
       "3  V2KKSFM3UN  32.0  31713.0     44799.0          743               0   \n",
       "4  EY08JDHTZP  60.0  20437.0      9139.0          633               8   \n",
       "\n",
       "   NumCreditLines  InterestRate  LoanTerm  DTIRatio    Education  \\\n",
       "0               4         15.23        36      0.44   Bachelor's   \n",
       "1               1          4.81        60      0.68     Master's   \n",
       "2               3         21.17        24      0.31     Master's   \n",
       "3               3          7.07        24      0.23  High School   \n",
       "4               4          6.51        48      0.73   Bachelor's   \n",
       "\n",
       "  EmploymentType MaritalStatus HasMortgage HasDependents LoanPurpose  \\\n",
       "0      Full-time      Divorced         Yes           Yes       Other   \n",
       "1      Full-time       Married          No            No       Other   \n",
       "2     Unemployed      Divorced         Yes           Yes        Auto   \n",
       "3      Full-time       Married          No            No    Business   \n",
       "4     Unemployed      Divorced          No           Yes        Auto   \n",
       "\n",
       "  HasCoSigner  Default  \n",
       "0         Yes        0  \n",
       "1         Yes        0  \n",
       "2          No        1  \n",
       "3          No        0  \n",
       "4         NaN        0  "
      ]
     },
     "execution_count": 4,
     "metadata": {},
     "output_type": "execute_result"
    }
   ],
   "source": [
    "df.head()"
   ]
  },
  {
   "cell_type": "raw",
   "id": "297a5eac-87c1-424a-9b43-e3c6d286605a",
   "metadata": {},
   "source": [
    "\n",
    "In Data Analysis We will Analyze To Find out the below stuff\n",
    "    1. Missing Values\n",
    "    2. All The Numerical Variables\n",
    "    3. Distribution of the Numerical Variables\n",
    "    4. Categorical Variables\n",
    "    5. Cardinality of Categorical Variables\n",
    "    6. Outliers\n",
    "    7. Relationship between independent and dependent feature(SalePrice)\n"
   ]
  },
  {
   "cell_type": "markdown",
   "id": "bb3c9789-6c4c-4586-bd9c-d4ba923517e1",
   "metadata": {},
   "source": [
    "## 1. Missing Values"
   ]
  },
  {
   "cell_type": "code",
   "execution_count": 5,
   "id": "b452b1b7-a299-438f-8d6d-2b6a42afe49d",
   "metadata": {},
   "outputs": [
    {
     "data": {
      "text/plain": [
       "LoanID             0\n",
       "Age               21\n",
       "Income            51\n",
       "LoanAmount         1\n",
       "CreditScore        0\n",
       "MonthsEmployed     0\n",
       "NumCreditLines     0\n",
       "InterestRate       0\n",
       "LoanTerm           0\n",
       "DTIRatio           1\n",
       "Education         14\n",
       "EmploymentType     0\n",
       "MaritalStatus     26\n",
       "HasMortgage       15\n",
       "HasDependents     25\n",
       "LoanPurpose       34\n",
       "HasCoSigner       12\n",
       "Default            0\n",
       "dtype: int64"
      ]
     },
     "execution_count": 5,
     "metadata": {},
     "output_type": "execute_result"
    }
   ],
   "source": [
    "df.isnull().sum()"
   ]
  },
  {
   "cell_type": "raw",
   "id": "7759306e-5d01-4a29-99c3-a7e8fbb004bc",
   "metadata": {},
   "source": [
    "## Here we will check the percentage of nan values present in each feature\n",
    "## 1 -step make the list of features which has missing values\n",
    "features_with_na=[features for features in df.columns if df[features].isnull().sum()>1]\n",
    "## 2- step print the feature name and the percentage of missing values\n",
    "\n",
    "for feature in features_with_na:\n",
    "    print(feature, np.round(df[feature].isnull().mean(), 4),  ' % missing values')"
   ]
  },
  {
   "cell_type": "code",
   "execution_count": 6,
   "id": "3059484c-e9ec-4af6-a9bf-2f9de427d873",
   "metadata": {},
   "outputs": [],
   "source": [
    "# Fill value by mean mode \n",
    "\n",
    "df['Income'].fillna(df['Income'].mean(), inplace=True)\n",
    "\n",
    "df['Age'].fillna(df['Age'].mode()[0], inplace=True)\n",
    "df['Education'].fillna(df['Education'].mode()[0],inplace=True)\n",
    "df['MaritalStatus'].fillna(df['MaritalStatus'].mode()[0],inplace=True)\n",
    "df['HasMortgage'].fillna(df['HasMortgage'].mode()[0],inplace=True)\n",
    "df['HasDependents'].fillna(df['HasDependents'].mode()[0],inplace=True) \n",
    "df['HasDependents'].fillna(df['HasDependents'].mode()[0],inplace=True)                        \n",
    "\n",
    "df.dropna(axis=0, inplace=True)"
   ]
  },
  {
   "cell_type": "code",
   "execution_count": 7,
   "id": "09d4db5c-cce3-479f-b9a6-8e40bd47f99e",
   "metadata": {},
   "outputs": [
    {
     "data": {
      "text/plain": [
       "LoanID            0\n",
       "Age               0\n",
       "Income            0\n",
       "LoanAmount        0\n",
       "CreditScore       0\n",
       "MonthsEmployed    0\n",
       "NumCreditLines    0\n",
       "InterestRate      0\n",
       "LoanTerm          0\n",
       "DTIRatio          0\n",
       "Education         0\n",
       "EmploymentType    0\n",
       "MaritalStatus     0\n",
       "HasMortgage       0\n",
       "HasDependents     0\n",
       "LoanPurpose       0\n",
       "HasCoSigner       0\n",
       "Default           0\n",
       "dtype: int64"
      ]
     },
     "execution_count": 7,
     "metadata": {},
     "output_type": "execute_result"
    }
   ],
   "source": [
    "df.isnull().sum()"
   ]
  },
  {
   "cell_type": "code",
   "execution_count": 8,
   "id": "98733a45-e830-405e-8466-15fbc5cf1692",
   "metadata": {},
   "outputs": [
    {
     "data": {
      "text/plain": [
       "Index(['Age', 'Income', 'LoanAmount', 'CreditScore', 'MonthsEmployed',\n",
       "       'NumCreditLines', 'InterestRate', 'LoanTerm', 'DTIRatio', 'Education',\n",
       "       'EmploymentType', 'MaritalStatus', 'HasMortgage', 'HasDependents',\n",
       "       'LoanPurpose', 'HasCoSigner', 'Default'],\n",
       "      dtype='object')"
      ]
     },
     "execution_count": 8,
     "metadata": {},
     "output_type": "execute_result"
    }
   ],
   "source": [
    "df = df.drop(['LoanID'], axis=1)\n",
    "df.columns"
   ]
  },
  {
   "cell_type": "markdown",
   "id": "e277bf17-7cf5-46d6-a8e3-829e8a66057b",
   "metadata": {},
   "source": [
    "## 2. Numerical Variables"
   ]
  },
  {
   "cell_type": "raw",
   "id": "2f7a8b11-afea-43dc-900d-91e93cbeecfc",
   "metadata": {},
   "source": [
    "# list of numerical variables\n",
    "numerical_features = [feature for feature in df.columns if df[feature].dtypes != 'O']\n",
    "\n",
    "print('Number of numerical variables: ', len(numerical_features))\n",
    "\n",
    "# visualise the numerical variables\n",
    "df[numerical_features].head()"
   ]
  },
  {
   "cell_type": "raw",
   "id": "6bd023a8-38ba-4a29-9108-e80c775f82f8",
   "metadata": {},
   "source": [
    "## Numerical variables are usually of 2 type\n",
    "## 1. Continous variable and Discrete Variables\n",
    "\n",
    "discrete_feature=[feature for feature in numerical_features if len(df[feature].unique())<25]\n",
    "print(\"Discrete Variables Count: {}\".format(len(discrete_feature)))"
   ]
  },
  {
   "cell_type": "markdown",
   "id": "59ba4e87-7c96-47dd-b5d1-78d0203c4869",
   "metadata": {},
   "source": [
    "### Discrete variable"
   ]
  },
  {
   "cell_type": "raw",
   "id": "bd943562-f9cb-44d0-a2e9-11dbd73c896a",
   "metadata": {},
   "source": [
    "discrete_feature\n"
   ]
  },
  {
   "cell_type": "raw",
   "id": "f9192233-613b-418c-8060-465f6c4f4b1b",
   "metadata": {},
   "source": [
    "df[discrete_feature].head()\n"
   ]
  },
  {
   "cell_type": "raw",
   "id": "1b2ec459-a5e2-423a-8745-f0cdd936bb1b",
   "metadata": {},
   "source": [
    "## Lets Find the realtionship between them and Loan eligibility\n",
    "\n",
    "for feature in discrete_feature:\n",
    "    data = df.copy()\n",
    "    \n",
    "    plt.figure(figsize=(10, 6))\n",
    "    sns.countplot(x=feature, hue='Default', data=data, palette='viridis')\n",
    "    \n",
    "    plt.xlabel(feature)\n",
    "    plt.ylabel('Count')\n",
    "    plt.title(f'Count of Default Categories by {feature}')\n",
    "    plt.legend(title='Default', loc='upper right')\n",
    "    plt.show()"
   ]
  },
  {
   "cell_type": "markdown",
   "id": "459ca4d5-834c-4c38-accf-ed9b62a2a67f",
   "metadata": {},
   "source": [
    "### Continuous Variable"
   ]
  },
  {
   "cell_type": "raw",
   "id": "6ce3b15e-d5b2-46a8-ae67-f005528626a5",
   "metadata": {},
   "source": [
    "continuous_feature=[feature for feature in numerical_features if feature not in discrete_feature]\n",
    "print(\"Continuous feature Count {}\".format(len(continuous_feature)))"
   ]
  },
  {
   "cell_type": "raw",
   "id": "8568350d-ee51-4473-a294-2f258ef74821",
   "metadata": {},
   "source": [
    "## Lets analyse the continuous values by creating histograms to understand the distribution\n",
    "\n",
    "for feature in continuous_feature:\n",
    "    data=df.copy()\n",
    "    data[feature].hist(bins=25)\n",
    "    plt.xlabel(feature)\n",
    "    plt.ylabel(\"Count\")\n",
    "    plt.title(feature)\n",
    "    plt.show()"
   ]
  },
  {
   "cell_type": "raw",
   "id": "6d30173a-e4ff-4f76-ba9b-f1790d27eb86",
   "metadata": {},
   "source": [
    "for feature in continuous_feature:\n",
    "    data = df.copy()\n",
    "    if 0 in data[feature].unique():\n",
    "        pass\n",
    "    else:\n",
    "        data[feature] = np.log1p(data[feature])  # Use log1p to handle zero values\n",
    "        plt.scatter(data[feature], data['Default'])\n",
    "        plt.xlabel(feature)\n",
    "        plt.ylabel('Default')\n",
    "        plt.title(f'Log-transformed {feature} vs Default')\n",
    "        plt.show()"
   ]
  },
  {
   "cell_type": "markdown",
   "id": "fa22fd88-f394-42f8-b626-2679f7a373f7",
   "metadata": {},
   "source": [
    "## 3.Outliers"
   ]
  },
  {
   "cell_type": "raw",
   "id": "7d1e2dde-b390-421b-8661-3710c028834b",
   "metadata": {},
   "source": [
    "# Plot boxplots for log-transformed features\n",
    "for feature in continuous_feature:\n",
    "    data = df.copy()\n",
    "    if 0 in data[feature].unique():\n",
    "        pass\n",
    "    else:\n",
    "        data[feature] = np.log1p(data[feature])  # Use log1p to handle zero values\n",
    "        data.boxplot(column=feature)\n",
    "        plt.ylabel(feature)\n",
    "        plt.title(f'Log-transformed {feature}')\n",
    "        plt.show()"
   ]
  },
  {
   "cell_type": "markdown",
   "id": "516cca09-1a77-41f0-b377-a1bc1ba5157b",
   "metadata": {},
   "source": [
    "### Categorical Variables\n"
   ]
  },
  {
   "cell_type": "raw",
   "id": "be475630-cb22-4c19-93fe-0959f241168e",
   "metadata": {},
   "source": [
    "categorical_features=[feature for feature in df.columns if data[feature].dtypes=='O']\n",
    "\n",
    "if 'LoanID' in categorical_features:\n",
    "    categorical_features.remove('LoanID')\n",
    "\n",
    "categorical_features\n",
    "categorical_features"
   ]
  },
  {
   "cell_type": "raw",
   "id": "e3075047-9ad0-439d-93f7-8d69ec317338",
   "metadata": {},
   "source": [
    "df[categorical_features].head()\n"
   ]
  },
  {
   "cell_type": "raw",
   "id": "bc16bad0-8940-45a5-8896-8535eb3993d2",
   "metadata": {},
   "source": [
    "for feature in categorical_features:\n",
    "    print('The feature is {} and number of categories are {}'.format(feature,len(df[feature].unique())))"
   ]
  },
  {
   "cell_type": "markdown",
   "id": "5a499dc2-a11a-42f1-9239-5a6a0b9ce576",
   "metadata": {},
   "source": [
    "### Find out the relationship between categorical variable and dependent feature Default\n"
   ]
  },
  {
   "cell_type": "raw",
   "id": "ea9179b5-cf0f-4361-837b-d11c0bb13d2b",
   "metadata": {},
   "source": [
    "# Plot default rate (mean of 'Default') for each categorical feature\n",
    "for feature in categorical_features:\n",
    "    data = df.copy()\n",
    "    default_rate = data.groupby(feature)['Default'].mean()\n",
    "    default_rate.plot(kind='bar')\n",
    "    plt.xlabel(feature)\n",
    "    plt.ylabel('Default Rate')\n",
    "    plt.title(f'Default Rate by {feature}')\n",
    "    plt.show()"
   ]
  },
  {
   "cell_type": "markdown",
   "id": "ad5899c6-81e8-436f-aabb-542941d8e2d4",
   "metadata": {},
   "source": [
    "## 4. Label encoding"
   ]
  },
  {
   "cell_type": "markdown",
   "id": "73b15589-e6ec-4fba-9d83-b3f902d1a429",
   "metadata": {},
   "source": [
    "## 5. Deal with imbalanced Data (SMOTE)"
   ]
  },
  {
   "cell_type": "code",
   "execution_count": 9,
   "id": "50671a84-0483-4131-b0d8-136c251ee265",
   "metadata": {},
   "outputs": [
    {
     "name": "stdout",
     "output_type": "stream",
     "text": [
      "0    225650\n",
      "Name: Default, dtype: int64\n",
      "1    29649\n",
      "Name: Default, dtype: int64\n"
     ]
    }
   ],
   "source": [
    "# pip install imbalanced-Learn\n",
    "\n",
    "class_0_count, class_1_count = df['Default'].value_counts()\n",
    "\n",
    "# separate  the class 1, 0 into 2 df\n",
    "df_class_0 = df[df['Default']==0]\n",
    "df_class_1 = df[df['Default']==1]\n",
    "\n",
    "print(df_class_0['Default'].value_counts())\n",
    "print(df_class_1['Default'].value_counts())"
   ]
  },
  {
   "cell_type": "code",
   "execution_count": 10,
   "id": "9ec1dad5-0ef5-4e5c-8067-b924dc9c0f92",
   "metadata": {},
   "outputs": [
    {
     "data": {
      "text/plain": [
       "89649"
      ]
     },
     "execution_count": 10,
     "metadata": {},
     "output_type": "execute_result"
    }
   ],
   "source": [
    "## class 0 ==> 60000\n",
    "#  class 1 ==> 29649\n",
    "# merge together\n",
    "\n",
    "df_class_0 = df_class_0.sample(60000)\n",
    "\n",
    "df2 = pd.concat([df_class_1, df_class_0],axis= 0)\n",
    "\n",
    "df2.to_csv(\"Default_Loan.csv\")\n",
    "len(df2)"
   ]
  },
  {
   "cell_type": "markdown",
   "id": "8784792c-3095-430d-a86a-2e7423cff308",
   "metadata": {},
   "source": [
    "## save the model"
   ]
  },
  {
   "cell_type": "code",
   "execution_count": null,
   "id": "0866ead1-f51d-4a11-ae40-ffc5daf346cc",
   "metadata": {},
   "outputs": [],
   "source": []
  },
  {
   "cell_type": "code",
   "execution_count": null,
   "id": "9375cf32-8c94-4e1a-a40b-1e65ffa49de4",
   "metadata": {},
   "outputs": [],
   "source": []
  }
 ],
 "metadata": {
  "kernelspec": {
   "display_name": "Python 3 (ipykernel)",
   "language": "python",
   "name": "python3"
  },
  "language_info": {
   "codemirror_mode": {
    "name": "ipython",
    "version": 3
   },
   "file_extension": ".py",
   "mimetype": "text/x-python",
   "name": "python",
   "nbconvert_exporter": "python",
   "pygments_lexer": "ipython3",
   "version": "3.10.12"
  }
 },
 "nbformat": 4,
 "nbformat_minor": 5
}
