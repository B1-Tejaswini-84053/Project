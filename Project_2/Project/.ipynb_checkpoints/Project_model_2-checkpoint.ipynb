{
 "cells": [
  {
   "cell_type": "code",
   "execution_count": null,
   "id": "7127e283-9ca2-45ca-8e68-d856fc947405",
   "metadata": {},
   "outputs": [],
   "source": []
  },
  {
   "cell_type": "code",
   "execution_count": null,
   "id": "6984d353-1e1e-474d-9b51-bcb088990698",
   "metadata": {},
   "outputs": [],
   "source": []
  },
  {
   "cell_type": "code",
   "execution_count": null,
   "id": "bfee8cef-53b9-4a7a-83f4-bb1e9d3062a0",
   "metadata": {},
   "outputs": [],
   "source": []
  },
  {
   "cell_type": "markdown",
   "id": "ab0e66f2-bab4-4643-b0b2-aab4ba318045",
   "metadata": {},
   "source": [
    "### Perform Exploratory Data Analysis"
   ]
  },
  {
   "cell_type": "code",
   "execution_count": 1,
   "id": "e5d2964d-43e5-4186-b9eb-9d67c09eb6cf",
   "metadata": {},
   "outputs": [
    {
     "ename": "NameError",
     "evalue": "name 'df' is not defined",
     "output_type": "error",
     "traceback": [
      "\u001b[0;31m---------------------------------------------------------------------------\u001b[0m",
      "\u001b[0;31mNameError\u001b[0m                                 Traceback (most recent call last)",
      "Cell \u001b[0;32mIn[1], line 1\u001b[0m\n\u001b[0;32m----> 1\u001b[0m df\u001b[38;5;241m.\u001b[39minfo()\n",
      "\u001b[0;31mNameError\u001b[0m: name 'df' is not defined"
     ]
    }
   ],
   "source": [
    "df.info()"
   ]
  },
  {
   "cell_type": "code",
   "execution_count": null,
   "id": "fa427be2-82d0-421d-98f5-15d349ad8fad",
   "metadata": {},
   "outputs": [],
   "source": [
    "df.describe()"
   ]
  },
  {
   "cell_type": "code",
   "execution_count": null,
   "id": "3fa54bf1-ebf1-42a4-b4d4-1f38546331aa",
   "metadata": {},
   "outputs": [],
   "source": [
    "df.isnull().sum()   # same as df.isna().sum()"
   ]
  },
  {
   "cell_type": "markdown",
   "id": "b2abd473-0183-44e4-982d-1fad1e3c2103",
   "metadata": {},
   "source": []
  },
  {
   "cell_type": "code",
   "execution_count": null,
   "id": "d4566ab1-9c86-43c4-a4b9-f55de796d8c1",
   "metadata": {},
   "outputs": [],
   "source": [
    "# no null value"
   ]
  },
  {
   "cell_type": "markdown",
   "id": "15308ce0-4fbd-4dfe-8cbe-64779af28646",
   "metadata": {},
   "source": [
    "## Data preprocessing / Data cleansing"
   ]
  },
  {
   "cell_type": "code",
   "execution_count": null,
   "id": "7fcc04ae-abb6-4a0e-8057-f0a062a597a1",
   "metadata": {},
   "outputs": [],
   "source": [
    "df.drop('LoanID',axis= 1, inplace= True)\n",
    "df.head()"
   ]
  },
  {
   "cell_type": "code",
   "execution_count": null,
   "id": "cf92089d-71e4-4917-838b-2781fdad4b5c",
   "metadata": {},
   "outputs": [],
   "source": [
    "# convort the categorical into numerical \n",
    "from sklearn.preprocessing import LabelEncoder\n",
    "\n",
    "df['Education'] = LabelEncoder().fit_transform(df['Education'])\n",
    "df['EmploymentType'] = LabelEncoder().fit_transform(df['EmploymentType'])\n",
    "df['MaritalStatus'] = LabelEncoder().fit_transform(df['MaritalStatus'])\n",
    "df['HasMortgage'] = LabelEncoder().fit_transform(df['HasMortgage'])\n",
    "df['HasDependents'] = LabelEncoder().fit_transform(df['HasDependents'])\n",
    "df['LoanPurpose'] = LabelEncoder().fit_transform(df['LoanPurpose'])\n",
    "df['HasCoSigner'] = LabelEncoder().fit_transform(df['HasCoSigner'])"
   ]
  },
  {
   "cell_type": "code",
   "execution_count": null,
   "id": "fb7fb3f2-d5d1-4a0c-b86c-8af60e1b3afa",
   "metadata": {},
   "outputs": [],
   "source": []
  },
  {
   "cell_type": "code",
   "execution_count": null,
   "id": "25a4a72c-2bb8-4249-9fe4-deb22792a3ca",
   "metadata": {},
   "outputs": [],
   "source": []
  },
  {
   "cell_type": "code",
   "execution_count": null,
   "id": "dae55551-abed-4f35-b369-c8cb6cfbf430",
   "metadata": {},
   "outputs": [],
   "source": [
    "df.shape"
   ]
  },
  {
   "cell_type": "code",
   "execution_count": null,
   "id": "8fbe1b25-8e6b-48ad-b297-b0b593e0d305",
   "metadata": {},
   "outputs": [],
   "source": [
    "df['Default'].value_counts()"
   ]
  },
  {
   "cell_type": "markdown",
   "id": "ce98dcaa-9707-4792-bdf7-758886df51e2",
   "metadata": {},
   "source": [
    "# Deal with imbalanced Data"
   ]
  },
  {
   "cell_type": "markdown",
   "id": "75e0122d-e20f-4886-8cc4-dd596cdeb34b",
   "metadata": {},
   "source": [
    "### Balancing data by using under sampling majority class"
   ]
  },
  {
   "cell_type": "code",
   "execution_count": null,
   "id": "f4ba1edc-a36f-49ac-8c5a-b990682e8420",
   "metadata": {},
   "outputs": [],
   "source": [
    "# separate the class 1, 0 count \n",
    "class_0_count, class_1_count = df['Default'].value_counts()\n",
    "\n",
    "# separate  the class 1, 0 into 2 df\n",
    "df_class_0 = df[df['Default']==0]\n",
    "df_class_1 = df[df['Default']==1]\n",
    "\n"
   ]
  },
  {
   "cell_type": "code",
   "execution_count": null,
   "id": "67788d3c-be11-4db3-9ab8-b7a349076d3c",
   "metadata": {},
   "outputs": [],
   "source": [
    "print(df_class_0['Default'].value_counts())\n",
    "print(df_class_1['Default'].value_counts())"
   ]
  },
  {
   "cell_type": "code",
   "execution_count": null,
   "id": "73a00f1d-5c96-4403-a5db-3a595aa61f8c",
   "metadata": {},
   "outputs": [],
   "source": [
    "60000-29653"
   ]
  },
  {
   "cell_type": "code",
   "execution_count": null,
   "id": "5243122b-d43e-4c26-91fa-711513d08108",
   "metadata": {},
   "outputs": [],
   "source": [
    "df_class_0_under = df_class_0.sample(30347)"
   ]
  },
  {
   "cell_type": "code",
   "execution_count": null,
   "id": "b207c4a4-339f-474c-9599-2dd14eca9973",
   "metadata": {},
   "outputs": [],
   "source": [
    "balance_df_by_under = pd.concat([df_class_1, df_class_0_under],axis= 0)\n",
    "balance_df_by_under.head()"
   ]
  },
  {
   "cell_type": "code",
   "execution_count": null,
   "id": "7c737158-4a44-447b-a31b-b14e497057b4",
   "metadata": {},
   "outputs": [],
   "source": [
    "balance_df_by_under.corr()"
   ]
  },
  {
   "cell_type": "code",
   "execution_count": null,
   "id": "774409be-53f0-4665-9163-f3d606330def",
   "metadata": {},
   "outputs": [],
   "source": []
  }
 ],
 "metadata": {
  "kernelspec": {
   "display_name": "Python 3 (ipykernel)",
   "language": "python",
   "name": "python3"
  },
  "language_info": {
   "codemirror_mode": {
    "name": "ipython",
    "version": 3
   },
   "file_extension": ".py",
   "mimetype": "text/x-python",
   "name": "python",
   "nbconvert_exporter": "python",
   "pygments_lexer": "ipython3",
   "version": "3.11.7"
  }
 },
 "nbformat": 4,
 "nbformat_minor": 5
}
