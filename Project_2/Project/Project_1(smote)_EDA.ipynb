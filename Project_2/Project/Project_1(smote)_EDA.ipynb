{
 "cells": [
  {
   "cell_type": "markdown",
   "id": "23b6c94e-2b8d-4fd2-a435-f8dc2b8b434d",
   "metadata": {},
   "source": [
    "# Loan Eligibility Prediction"
   ]
  },
  {
   "cell_type": "markdown",
   "id": "157101a1-c9e4-45df-a237-639178abf9ba",
   "metadata": {},
   "source": [
    "### import require packages"
   ]
  },
  {
   "cell_type": "code",
   "execution_count": 12,
   "id": "ad6cef60-8181-4fca-9b40-4761cca63f00",
   "metadata": {},
   "outputs": [],
   "source": [
    "import pandas as pd\n",
    "import numpy as np\n",
    "import matplotlib.pyplot as plt\n",
    "import seaborn as sns\n",
    "%matplotlib inline\n",
    "pd.pandas.set_option('display.max_columns',None)"
   ]
  },
  {
   "cell_type": "markdown",
   "id": "01916d3f-5089-4922-bd99-b968cdd6e54c",
   "metadata": {},
   "source": [
    "# 1. Load the Dataset"
   ]
  },
  {
   "cell_type": "code",
   "execution_count": 13,
   "id": "b9eacbe2-638c-48bd-9040-86db32c6c246",
   "metadata": {},
   "outputs": [],
   "source": [
    "df = pd.read_csv(\"Loan_default.csv\")"
   ]
  },
  {
   "cell_type": "markdown",
   "id": "1c196949-1b50-451a-ab05-b09cf9f5e72b",
   "metadata": {},
   "source": [
    "# 2. Perform Exploratory Data Analysis or Data preprocessing"
   ]
  },
  {
   "cell_type": "code",
   "execution_count": 14,
   "id": "9ed5029d-8a05-4e0a-92ba-d5297b9c76d8",
   "metadata": {},
   "outputs": [
    {
     "data": {
      "text/plain": [
       "(255347, 18)"
      ]
     },
     "execution_count": 14,
     "metadata": {},
     "output_type": "execute_result"
    }
   ],
   "source": [
    "df.shape"
   ]
  },
  {
   "cell_type": "code",
   "execution_count": 15,
   "id": "f2f51573-4e07-409b-b2c9-825ded4dcb5b",
   "metadata": {},
   "outputs": [
    {
     "data": {
      "text/html": [
       "<div>\n",
       "<style scoped>\n",
       "    .dataframe tbody tr th:only-of-type {\n",
       "        vertical-align: middle;\n",
       "    }\n",
       "\n",
       "    .dataframe tbody tr th {\n",
       "        vertical-align: top;\n",
       "    }\n",
       "\n",
       "    .dataframe thead th {\n",
       "        text-align: right;\n",
       "    }\n",
       "</style>\n",
       "<table border=\"1\" class=\"dataframe\">\n",
       "  <thead>\n",
       "    <tr style=\"text-align: right;\">\n",
       "      <th></th>\n",
       "      <th>LoanID</th>\n",
       "      <th>Age</th>\n",
       "      <th>Income</th>\n",
       "      <th>LoanAmount</th>\n",
       "      <th>CreditScore</th>\n",
       "      <th>MonthsEmployed</th>\n",
       "      <th>NumCreditLines</th>\n",
       "      <th>InterestRate</th>\n",
       "      <th>LoanTerm</th>\n",
       "      <th>DTIRatio</th>\n",
       "      <th>Education</th>\n",
       "      <th>EmploymentType</th>\n",
       "      <th>MaritalStatus</th>\n",
       "      <th>HasMortgage</th>\n",
       "      <th>HasDependents</th>\n",
       "      <th>LoanPurpose</th>\n",
       "      <th>HasCoSigner</th>\n",
       "      <th>Default</th>\n",
       "    </tr>\n",
       "  </thead>\n",
       "  <tbody>\n",
       "    <tr>\n",
       "      <th>0</th>\n",
       "      <td>I38PQUQS96</td>\n",
       "      <td>56.0</td>\n",
       "      <td>85994.0</td>\n",
       "      <td>50587.0</td>\n",
       "      <td>520</td>\n",
       "      <td>80</td>\n",
       "      <td>4</td>\n",
       "      <td>15.23</td>\n",
       "      <td>36</td>\n",
       "      <td>0.44</td>\n",
       "      <td>Bachelor's</td>\n",
       "      <td>Full-time</td>\n",
       "      <td>Divorced</td>\n",
       "      <td>Yes</td>\n",
       "      <td>Yes</td>\n",
       "      <td>Other</td>\n",
       "      <td>Yes</td>\n",
       "      <td>0</td>\n",
       "    </tr>\n",
       "    <tr>\n",
       "      <th>1</th>\n",
       "      <td>HPSK72WA7R</td>\n",
       "      <td>69.0</td>\n",
       "      <td>50432.0</td>\n",
       "      <td>124440.0</td>\n",
       "      <td>458</td>\n",
       "      <td>15</td>\n",
       "      <td>1</td>\n",
       "      <td>4.81</td>\n",
       "      <td>60</td>\n",
       "      <td>0.68</td>\n",
       "      <td>Master's</td>\n",
       "      <td>Full-time</td>\n",
       "      <td>Married</td>\n",
       "      <td>No</td>\n",
       "      <td>No</td>\n",
       "      <td>Other</td>\n",
       "      <td>Yes</td>\n",
       "      <td>0</td>\n",
       "    </tr>\n",
       "    <tr>\n",
       "      <th>2</th>\n",
       "      <td>C1OZ6DPJ8Y</td>\n",
       "      <td>46.0</td>\n",
       "      <td>84208.0</td>\n",
       "      <td>129188.0</td>\n",
       "      <td>451</td>\n",
       "      <td>26</td>\n",
       "      <td>3</td>\n",
       "      <td>21.17</td>\n",
       "      <td>24</td>\n",
       "      <td>0.31</td>\n",
       "      <td>Master's</td>\n",
       "      <td>Unemployed</td>\n",
       "      <td>Divorced</td>\n",
       "      <td>Yes</td>\n",
       "      <td>Yes</td>\n",
       "      <td>Auto</td>\n",
       "      <td>No</td>\n",
       "      <td>1</td>\n",
       "    </tr>\n",
       "    <tr>\n",
       "      <th>3</th>\n",
       "      <td>V2KKSFM3UN</td>\n",
       "      <td>32.0</td>\n",
       "      <td>31713.0</td>\n",
       "      <td>44799.0</td>\n",
       "      <td>743</td>\n",
       "      <td>0</td>\n",
       "      <td>3</td>\n",
       "      <td>7.07</td>\n",
       "      <td>24</td>\n",
       "      <td>0.23</td>\n",
       "      <td>High School</td>\n",
       "      <td>Full-time</td>\n",
       "      <td>Married</td>\n",
       "      <td>No</td>\n",
       "      <td>No</td>\n",
       "      <td>Business</td>\n",
       "      <td>No</td>\n",
       "      <td>0</td>\n",
       "    </tr>\n",
       "    <tr>\n",
       "      <th>4</th>\n",
       "      <td>EY08JDHTZP</td>\n",
       "      <td>60.0</td>\n",
       "      <td>20437.0</td>\n",
       "      <td>9139.0</td>\n",
       "      <td>633</td>\n",
       "      <td>8</td>\n",
       "      <td>4</td>\n",
       "      <td>6.51</td>\n",
       "      <td>48</td>\n",
       "      <td>0.73</td>\n",
       "      <td>Bachelor's</td>\n",
       "      <td>Unemployed</td>\n",
       "      <td>Divorced</td>\n",
       "      <td>No</td>\n",
       "      <td>Yes</td>\n",
       "      <td>Auto</td>\n",
       "      <td>NaN</td>\n",
       "      <td>0</td>\n",
       "    </tr>\n",
       "  </tbody>\n",
       "</table>\n",
       "</div>"
      ],
      "text/plain": [
       "       LoanID   Age   Income  LoanAmount  CreditScore  MonthsEmployed  \\\n",
       "0  I38PQUQS96  56.0  85994.0     50587.0          520              80   \n",
       "1  HPSK72WA7R  69.0  50432.0    124440.0          458              15   \n",
       "2  C1OZ6DPJ8Y  46.0  84208.0    129188.0          451              26   \n",
       "3  V2KKSFM3UN  32.0  31713.0     44799.0          743               0   \n",
       "4  EY08JDHTZP  60.0  20437.0      9139.0          633               8   \n",
       "\n",
       "   NumCreditLines  InterestRate  LoanTerm  DTIRatio    Education  \\\n",
       "0               4         15.23        36      0.44   Bachelor's   \n",
       "1               1          4.81        60      0.68     Master's   \n",
       "2               3         21.17        24      0.31     Master's   \n",
       "3               3          7.07        24      0.23  High School   \n",
       "4               4          6.51        48      0.73   Bachelor's   \n",
       "\n",
       "  EmploymentType MaritalStatus HasMortgage HasDependents LoanPurpose  \\\n",
       "0      Full-time      Divorced         Yes           Yes       Other   \n",
       "1      Full-time       Married          No            No       Other   \n",
       "2     Unemployed      Divorced         Yes           Yes        Auto   \n",
       "3      Full-time       Married          No            No    Business   \n",
       "4     Unemployed      Divorced          No           Yes        Auto   \n",
       "\n",
       "  HasCoSigner  Default  \n",
       "0         Yes        0  \n",
       "1         Yes        0  \n",
       "2          No        1  \n",
       "3          No        0  \n",
       "4         NaN        0  "
      ]
     },
     "execution_count": 15,
     "metadata": {},
     "output_type": "execute_result"
    }
   ],
   "source": [
    "df.head()"
   ]
  },
  {
   "cell_type": "raw",
   "id": "297a5eac-87c1-424a-9b43-e3c6d286605a",
   "metadata": {},
   "source": [
    "\n",
    "In Data Analysis We will Analyze To Find out the below stuff\n",
    "    1. Missing Values\n",
    "    2. All The Numerical Variables\n",
    "    3. Distribution of the Numerical Variables\n",
    "    4. Categorical Variables\n",
    "    5. Cardinality of Categorical Variables\n",
    "    6. Outliers\n",
    "    7. Relationship between independent and dependent feature(SalePrice)\n"
   ]
  },
  {
   "cell_type": "markdown",
   "id": "bb3c9789-6c4c-4586-bd9c-d4ba923517e1",
   "metadata": {},
   "source": [
    "## 1. Missing Values"
   ]
  },
  {
   "cell_type": "code",
   "execution_count": 16,
   "id": "b452b1b7-a299-438f-8d6d-2b6a42afe49d",
   "metadata": {},
   "outputs": [
    {
     "data": {
      "text/plain": [
       "LoanID             0\n",
       "Age               21\n",
       "Income            51\n",
       "LoanAmount         1\n",
       "CreditScore        0\n",
       "MonthsEmployed     0\n",
       "NumCreditLines     0\n",
       "InterestRate       0\n",
       "LoanTerm           0\n",
       "DTIRatio           1\n",
       "Education         14\n",
       "EmploymentType     0\n",
       "MaritalStatus     26\n",
       "HasMortgage       15\n",
       "HasDependents     25\n",
       "LoanPurpose       34\n",
       "HasCoSigner       12\n",
       "Default            0\n",
       "dtype: int64"
      ]
     },
     "execution_count": 16,
     "metadata": {},
     "output_type": "execute_result"
    }
   ],
   "source": [
    "df.isnull().sum()\n"
   ]
  },
  {
   "cell_type": "code",
   "execution_count": 20,
   "id": "95fc62dc-5e32-41b1-bef5-170c16b97039",
   "metadata": {},
   "outputs": [],
   "source": [
    "\n",
    "df['Income'].fillna(df['Income'].mean(), inplace=True)\n",
    "\n",
    "df['Age'].fillna(df['Age'].mode()[0], inplace=True)\n",
    "df['Education'].fillna(df['Education'].mode()[0],inplace=True)\n",
    "df['MaritalStatus'].fillna(df['MaritalStatus'].mode()[0],inplace=True)\n",
    "df['HasMortgage'].fillna(df['HasMortgage'].mode()[0],inplace=True)\n",
    "df['HasDependents'].fillna(df['HasDependents'].mode()[0],inplace=True) \n",
    "df['HasDependents'].fillna(df['HasDependents'].mode()[0],inplace=True)                        \n",
    "\n",
    "df.dropna(axis=0, inplace=True)"
   ]
  },
  {
   "cell_type": "code",
   "execution_count": 21,
   "id": "856bfba9-2d0e-48a3-8975-3e3edca84475",
   "metadata": {},
   "outputs": [
    {
     "data": {
      "text/plain": [
       "LoanID            0\n",
       "Age               0\n",
       "Income            0\n",
       "LoanAmount        0\n",
       "CreditScore       0\n",
       "MonthsEmployed    0\n",
       "NumCreditLines    0\n",
       "InterestRate      0\n",
       "LoanTerm          0\n",
       "DTIRatio          0\n",
       "Education         0\n",
       "EmploymentType    0\n",
       "MaritalStatus     0\n",
       "HasMortgage       0\n",
       "HasDependents     0\n",
       "LoanPurpose       0\n",
       "HasCoSigner       0\n",
       "Default           0\n",
       "dtype: int64"
      ]
     },
     "execution_count": 21,
     "metadata": {},
     "output_type": "execute_result"
    }
   ],
   "source": [
    "df.isnull().sum()\n"
   ]
  },
  {
   "cell_type": "code",
   "execution_count": 37,
   "id": "02df5899-0d6a-427e-bca9-1bb4b9ec450d",
   "metadata": {},
   "outputs": [],
   "source": [
    "df.drop(\"LoanID\",axis=1,inplace=True)"
   ]
  },
  {
   "cell_type": "code",
   "execution_count": 38,
   "id": "b6d33d92-cac6-4012-91a7-723e3b64ac1f",
   "metadata": {},
   "outputs": [],
   "source": [
    "import sweetviz"
   ]
  },
  {
   "cell_type": "code",
   "execution_count": 39,
   "id": "ac72c1b0-195e-4da6-bd4e-3e99b215caf8",
   "metadata": {},
   "outputs": [
    {
     "data": {
      "application/vnd.jupyter.widget-view+json": {
       "model_id": "239778d2215949d79c17a43b50ed0f56",
       "version_major": 2,
       "version_minor": 0
      },
      "text/plain": [
       "                                             |      | [  0%]   00:00 -> (? left)"
      ]
     },
     "metadata": {},
     "output_type": "display_data"
    }
   ],
   "source": [
    "my_report = sweetviz.analyze([df, \"Data_set Visualization\"],target_feat=\"Default\")"
   ]
  },
  {
   "cell_type": "code",
   "execution_count": 40,
   "id": "f94bb4a0-9294-4b45-992d-6971a0038121",
   "metadata": {},
   "outputs": [
    {
     "name": "stdout",
     "output_type": "stream",
     "text": [
      "Report Report.html was generated! NOTEBOOK/COLAB USERS: the web browser MAY not pop up, regardless, the report IS saved in your notebook/colab files.\n"
     ]
    }
   ],
   "source": [
    "my_report.show_html(\"Report.html\")"
   ]
  },
  {
   "cell_type": "code",
   "execution_count": null,
   "id": "0f5ffdc0-061d-4668-b3a0-25a104a0329a",
   "metadata": {},
   "outputs": [],
   "source": []
  },
  {
   "cell_type": "code",
   "execution_count": null,
   "id": "ab6afb85-a326-4518-bf11-055dc4c1bc27",
   "metadata": {},
   "outputs": [],
   "source": []
  },
  {
   "cell_type": "markdown",
   "id": "ad5899c6-81e8-436f-aabb-542941d8e2d4",
   "metadata": {},
   "source": [
    "## 4. Label encoding"
   ]
  },
  {
   "cell_type": "markdown",
   "id": "73b15589-e6ec-4fba-9d83-b3f902d1a429",
   "metadata": {},
   "source": [
    "## 5. Deal with imbalanced Data (SMOTE)"
   ]
  },
  {
   "cell_type": "code",
   "execution_count": 8,
   "id": "50671a84-0483-4131-b0d8-136c251ee265",
   "metadata": {},
   "outputs": [
    {
     "name": "stdout",
     "output_type": "stream",
     "text": [
      "0    225694\n",
      "Name: Default, dtype: int64\n",
      "1    29653\n",
      "Name: Default, dtype: int64\n"
     ]
    }
   ],
   "source": [
    "# pip install imbalanced-Learn\n",
    "\n",
    "class_0_count, class_1_count = df['Default'].value_counts()\n",
    "\n",
    "# separate  the class 1, 0 into 2 df\n",
    "df_class_0 = df[df['Default']==0]\n",
    "df_class_1 = df[df['Default']==1]\n",
    "\n",
    "print(df_class_0['Default'].value_counts())\n",
    "print(df_class_1['Default'].value_counts())"
   ]
  },
  {
   "cell_type": "code",
   "execution_count": 9,
   "id": "9ec1dad5-0ef5-4e5c-8067-b924dc9c0f92",
   "metadata": {},
   "outputs": [
    {
     "data": {
      "text/plain": [
       "LoanID      Age   Income    LoanAmount  CreditScore  MonthsEmployed  NumCreditLines  InterestRate  LoanTerm  DTIRatio  Education    EmploymentType  MaritalStatus  HasMortgage  HasDependents  LoanPurpose  HasCoSigner  Default\n",
       "000ELHLBPV  37.0  81658.0   152598.0    792          23              4               14.06         24        0.86      PhD          Self-employed   Married        Yes          No             Auto         No           1          1\n",
       "O22PN76VC1  22.0  66682.0   5172.0      755          40              4               4.54          36        0.24      Bachelor's   Unemployed      Single         No           Yes            Home         No           0          1\n",
       "O25AGSOVAF  42.0  109920.0  209477.0    304          110             3               22.25         60        0.82      High School  Unemployed      Divorced       No           No             Education    No           1          1\n",
       "O24OF1PXT6  26.0  91881.0   160067.0    626          35              4               24.20         36        0.69      Bachelor's   Unemployed      Divorced       Yes          Yes            Education    Yes          0          1\n",
       "O249KJFNCC  25.0  127095.0  137182.0    702          68              2               11.00         24        0.57      PhD          Self-employed   Single         Yes          No             Business     No           0          1\n",
       "                                                                                                                                                                                                                                   ..\n",
       "C1OHTQK2BS  46.0  144321.0  145692.0    423          18              4               3.66          60        0.52      High School  Full-time       Married        Yes          Yes            Education    Yes          0          1\n",
       "C1O3M005UG  61.0  103982.0  136248.0    717          8               3               20.33         60        0.20      Master's     Unemployed      Single         Yes          Yes            Home         Yes          0          1\n",
       "C1NWDK2M00  22.0  95402.0   50643.0     542          99              2               3.96          24        0.90      Bachelor's   Part-time       Married        Yes          No             Education    Yes          0          1\n",
       "C1NG2D7G6E  56.0  65634.0   7883.0      426          0               1               2.81          24        0.22      Master's     Full-time       Single         Yes          No             Auto         Yes          0          1\n",
       "ZZZX015LV2  65.0  114515.0  95500.0     820          45              4               8.87          48        0.13      High School  Part-time       Single         No           No             Business     No           0          1\n",
       "Length: 89586, dtype: int64"
      ]
     },
     "execution_count": 9,
     "metadata": {},
     "output_type": "execute_result"
    }
   ],
   "source": [
    "## class 0 ==> 60000\n",
    "#  class 1 ==> 29649\n",
    "# merge together\n",
    "\n",
    "df_class_0 = df_class_0.sample(60000)\n",
    "\n",
    "df2 = pd.concat([df_class_1, df_class_0],axis= 0)\n",
    "df2.value_counts()"
   ]
  },
  {
   "cell_type": "code",
   "execution_count": 10,
   "id": "343833fc-2ebe-472f-9535-8d11076cbeec",
   "metadata": {},
   "outputs": [
    {
     "name": "stdout",
     "output_type": "stream",
     "text": [
      "0    60000\n",
      "1    29653\n",
      "Name: Default, dtype: int64\n"
     ]
    },
    {
     "data": {
      "text/plain": [
       "<bound method DataFrame.value_counts of          Age    Income  LoanAmount  CreditScore  MonthsEmployed  \\\n",
       "2       46.0   84208.0    129188.0          451              26   \n",
       "5       25.0   90298.0     90448.0          720              18   \n",
       "8       36.0   42053.0     92357.0          827              83   \n",
       "11      28.0  149227.0    139759.0          375              56   \n",
       "18      19.0   40718.0     78515.0          319             119   \n",
       "...      ...       ...         ...          ...             ...   \n",
       "108292  43.0  109963.0    180180.0          451              94   \n",
       "232127  32.0   30804.0     27681.0          545              84   \n",
       "111997  40.0   78053.0    233472.0          522              16   \n",
       "173216  39.0   20095.0    151300.0          738              12   \n",
       "19592   57.0   39443.0    190431.0          561              44   \n",
       "\n",
       "        NumCreditLines  InterestRate  LoanTerm  DTIRatio    Education  \\\n",
       "2                    3         21.17        24      0.31     Master's   \n",
       "5                    2         22.72        24      0.10  High School   \n",
       "8                    1         23.94        48      0.20   Bachelor's   \n",
       "11                   3          5.84        36      0.80          PhD   \n",
       "18                   2         14.00        24      0.17   Bachelor's   \n",
       "...                ...           ...       ...       ...          ...   \n",
       "108292               2          8.44        48      0.20  High School   \n",
       "232127               4         23.13        12      0.56   Bachelor's   \n",
       "111997               2         19.58        48      0.23   Bachelor's   \n",
       "173216               4         18.49        60      0.29  High School   \n",
       "19592                4         24.28        24      0.37  High School   \n",
       "\n",
       "       EmploymentType MaritalStatus HasMortgage HasDependents LoanPurpose  \\\n",
       "2          Unemployed      Divorced         Yes           Yes        Auto   \n",
       "5          Unemployed           NaN         Yes            No    Business   \n",
       "8       Self-employed      Divorced         Yes            No   Education   \n",
       "11          Full-time      Divorced          No            No   Education   \n",
       "18      Self-employed      Divorced         Yes            No   Education   \n",
       "...               ...           ...         ...           ...         ...   \n",
       "108292     Unemployed       Married          No           Yes    Business   \n",
       "232127     Unemployed        Single          No            No        Auto   \n",
       "111997     Unemployed        Single         Yes           Yes        Home   \n",
       "173216      Part-time        Single          No            No       Other   \n",
       "19592   Self-employed      Divorced         Yes           Yes   Education   \n",
       "\n",
       "       HasCoSigner  \n",
       "2               No  \n",
       "5              Yes  \n",
       "8               No  \n",
       "11             Yes  \n",
       "18              No  \n",
       "...            ...  \n",
       "108292         Yes  \n",
       "232127         Yes  \n",
       "111997          No  \n",
       "173216          No  \n",
       "19592          Yes  \n",
       "\n",
       "[89653 rows x 16 columns]>"
      ]
     },
     "execution_count": 10,
     "metadata": {},
     "output_type": "execute_result"
    }
   ],
   "source": [
    "x = df2.drop(['LoanID','Default'],axis = 'columns')\n",
    "y = df2['Default']\n",
    "print(y.value_counts())\n",
    "x.value_counts"
   ]
  },
  {
   "cell_type": "code",
   "execution_count": 11,
   "id": "b312687d-569d-4740-b373-9b7ea465144d",
   "metadata": {},
   "outputs": [
    {
     "name": "stderr",
     "output_type": "stream",
     "text": [
      "\n",
      "KeyboardInterrupt\n",
      "\n"
     ]
    }
   ],
   "source": [
    "from imblearn.over_sampling import SMOTE\n",
    "\n",
    "smote = SMOTE(sampling_strategy= 'minority',random_state=12345)\n",
    "x_sm, y_sm = smote.fit_resample(x,y)\n",
    "y_sm.value_counts()\n",
    "df2 = pd.concat(x_sm, y_sm, axis = 1)\n"
   ]
  },
  {
   "cell_type": "code",
   "execution_count": null,
   "id": "d4201324-d8e3-4677-9ec9-6a141ab89256",
   "metadata": {},
   "outputs": [],
   "source": []
  },
  {
   "cell_type": "markdown",
   "id": "ab65160f-a707-4067-a7ec-4bb2307c1f94",
   "metadata": {},
   "source": [
    "# 2. Feature Selection"
   ]
  },
  {
   "cell_type": "markdown",
   "id": "6c35940e-abfd-42e7-84ee-88231326d469",
   "metadata": {},
   "source": [
    "### Scaling the data"
   ]
  },
  {
   "cell_type": "code",
   "execution_count": null,
   "id": "952f0115-429a-4fa3-bab5-6abaa5877668",
   "metadata": {},
   "outputs": [],
   "source": [
    "from sklearn.model_selection import train_test_split\n",
    "\n",
    "X_train, x_test, Y_train, y_test = train_test_split(x_sm, y_sm, train_size= 0.7, random_state=12350, stratify=y_sm)"
   ]
  },
  {
   "cell_type": "markdown",
   "id": "c1a74670-f03f-42aa-a9d3-655a76d94918",
   "metadata": {},
   "source": [
    "# 3. Model Building"
   ]
  },
  {
   "cell_type": "code",
   "execution_count": null,
   "id": "54560814-da85-4bb5-ba27-a3f37c6efef0",
   "metadata": {},
   "outputs": [],
   "source": [
    "class Models:\n",
    "    def __init__(self ,X_train, Y_train):\n",
    "        self.X_train = X_train\n",
    "        self.Y_train = Y_train\n",
    "        \n",
    "\n",
    "    # Built the Logistic Regression model\n",
    "    def model_LG(self):\n",
    "        from sklearn.linear_model import LogisticRegressionCV\n",
    "        model_lg = LogisticRegressionCV().fit(self.X_train, self.Y_train)\n",
    "        return model_lg\n",
    "\n",
    "    # Built the Naive Bayes \n",
    "    def model_NB(self):\n",
    "        from sklearn.naive_bayes import GaussianNB\n",
    "        model_nb = GaussianNB().fit(self.X_train, self.Y_train)\n",
    "        return model_nb\n",
    "\n",
    "    # Built the KNN model\n",
    "    def model_KNN(self):\n",
    "        from sklearn.neighbors import KNeighborsClassifier\n",
    "        model_knn = KNeighborsClassifier().fit(self.X_train, self.Y_train)\n",
    "        return model_knn\n",
    "\n",
    "    # Built the Support Vector Machine\n",
    "    def model_SVM(self):\n",
    "        from sklearn.svm import SVC\n",
    "        model_svm = SVC(C=3.0).fit(self.X_train, self.Y_train)\n",
    "        return model_svm\n",
    "        \n",
    "    # Built the Decison tree model \n",
    "    def model_DT(self):\n",
    "        from sklearn.tree import DecisionTreeClassifier\n",
    "        model_dt = DecisionTreeClassifier().fit(self.X_train, self.Y_train)\n",
    "        return model_dt\n",
    "\n",
    "    # Built the model for Random forest\n",
    "    def model_Rand_forest(self):\n",
    "        from sklearn.ensemble import RandomForestClassifier\n",
    "        model_rand_forest = RandomForestClassifier().fit(self.X_train, self.Y_train)\n",
    "        return model_rand_forest\n",
    "\n",
    "    # Built the catboost model\n",
    "    def model_Cat_Boost(self):\n",
    "        from catboost import CatBoostClassifier\n",
    "        model_catboost = CatBoostClassifier().fit(self.X_train, self.Y_train)\n",
    "        return model_catboost\n",
    "\n",
    "    # Built the adaboost model\n",
    "    def model_Ada_Boost(self):\n",
    "        from sklearn.ensemble import AdaBoostClassifier\n",
    "        model_adaboost = AdaBoostClassifier().fit(self.X_train, self.Y_train)\n",
    "        return model_adaboost\n",
    "\n",
    "    def model_XG_Boost(self):\n",
    "        from xgboost import XGBClassifier\n",
    "        model_xgboost = XGBClassifier().fit(self.X_train, self.Y_train)\n",
    "        return model_xgboost"
   ]
  },
  {
   "cell_type": "markdown",
   "id": "52755b31-d875-4dce-98a9-91aca52cf875",
   "metadata": {},
   "source": [
    "## Model Evaluation code"
   ]
  },
  {
   "cell_type": "code",
   "execution_count": null,
   "id": "08bdeb1c-00d9-422e-b3c3-d38656972344",
   "metadata": {},
   "outputs": [],
   "source": [
    "class Model_Evaluation_class:\n",
    "    def __init__(self ,x_test, y_test):\n",
    "        self.x_test = x_test\n",
    "        self.y_test = y_test\n",
    "\n",
    "    def Classification_Report(self, model):\n",
    "        from sklearn.metrics import classification_report\n",
    "        return classification_report(self.y_test, model.predict(self.x_test))\n",
    "\n",
    "    def model_evaluate(self, model, model_name):\n",
    "        from sklearn.metrics import confusion_matrix, accuracy_score, precision_score, recall_score,f1_score\n",
    "        \n",
    "        Accuracy = accuracy_score(self.y_test, model.predict(self.x_test))\n",
    "        Precision = precision_score(self.y_test, model.predict(self.x_test))\n",
    "        Recall = recall_score(self.y_test, model.predict(self.x_test))\n",
    "        f1_Score = f1_score(self.y_test, model.predict(self.x_test))\n",
    "        return model_name,Accuracy,Precision,Recall,f1_Score"
   ]
  },
  {
   "cell_type": "markdown",
   "id": "a183aa28-e00a-43fc-bcda-c826e12dc73f",
   "metadata": {},
   "source": [
    "### Build multiple model"
   ]
  },
  {
   "cell_type": "code",
   "execution_count": null,
   "id": "14928aca-5a96-4e57-8b16-3e777e39334f",
   "metadata": {},
   "outputs": [],
   "source": [
    "m2 = Models(X_train,Y_train)\n",
    "models = [(m2.model_LG(),\"LogisticRegression\",(0,0)),(m2.model_KNN(), \"KNeighborsClassifier\",(0,1)),\n",
    "          (m2.model_NB(),\"Naive Bayes\",(1,0)),(m2.model_SVM(),\"Support Vector Machine\",(1,1)),\n",
    "          (m2.model_DT(),\"DecisionTreeClassifier\",(2,0)),(m2.model_Rand_forest(),\"RandomForest\",(2,1)),\n",
    "         (m2.model_Ada_Boost(), \"AdaBoost\",(3,0)), (m2.model_Cat_Boost(),\"Cat_Boost\",(3,1)),\n",
    "         (m2.model_XG_Boost(), \"XGBoost\",(4,0))]"
   ]
  },
  {
   "cell_type": "markdown",
   "id": "f50f2836-dcd5-46c7-8dbb-e8c7cd4d6c76",
   "metadata": {},
   "source": [
    "## Evaluate all models\n"
   ]
  },
  {
   "cell_type": "code",
   "execution_count": null,
   "id": "eab60b4e-7dcb-4e1d-a93c-366f96edffd8",
   "metadata": {},
   "outputs": [],
   "source": [
    "model_evaluation_obj = Model_Evaluation_class(x_test, y_test)\n",
    "Results2 = []\n",
    "for model,model_name,_ in models:\n",
    "    Results2.append(model_evaluation_obj.model_evaluate(model, model_name))\n",
    "\n",
    "df2 = pd.DataFrame(Results2,columns=['Algorithm','Accuracy', 'Precision', 'Recall', 'F1_Score'])\n",
    "df2"
   ]
  },
  {
   "cell_type": "markdown",
   "id": "fb11ab83-8ad3-416f-84b8-eca28532d03f",
   "metadata": {},
   "source": [
    "## Classification report for all models"
   ]
  },
  {
   "cell_type": "code",
   "execution_count": null,
   "id": "2b32b630-1948-4ab4-b406-d32816b689de",
   "metadata": {},
   "outputs": [],
   "source": [
    "for model,model_name,_ in models:\n",
    "    print(f\"Classification report for {model_name} is :\")\n",
    "    print(model_evaluation_obj.Classification_Report(model))\n",
    "    print(\"-\"*80)"
   ]
  },
  {
   "cell_type": "code",
   "execution_count": null,
   "id": "1e91c7c7-6bd0-48f1-bbe1-95efe13ac647",
   "metadata": {},
   "outputs": [],
   "source": []
  },
  {
   "cell_type": "code",
   "execution_count": null,
   "id": "4293dfe2-3f1d-4e8d-b557-7f15f49c1876",
   "metadata": {},
   "outputs": [],
   "source": [
    "# Initialize the Models class\n",
    "\n",
    "\n",
    "# List of models with their corresponding labels\n",
    "\n",
    "from sklearn.metrics import roc_curve, auc\n",
    "\n",
    "plt.figure(figsize=(10, 6))\n",
    "\n",
    "for model, name, _ in models:\n",
    "    # Fit the model\n",
    "    \n",
    "    \n",
    "    # Predict probabilities or decision function\n",
    "    if hasattr(model, \"predict_proba\"):\n",
    "        y_prob = model.predict_proba(x_test)[:, 1]\n",
    "    else:\n",
    "        y_prob = model.decision_function(x_test)\n",
    "    \n",
    "    # Compute ROC curve and ROC area\n",
    "    fpr, tpr, _ = roc_curve(y_test, y_prob)\n",
    "    roc_auc = auc(fpr, tpr)\n",
    "    \n",
    "    # Plot ROC curve\n",
    "    plt.plot(fpr, tpr, lw=2, label=f'{name} (AUC = {roc_auc:.2f})')\n",
    "\n",
    "# Plotting the diagonal line\n",
    "plt.plot([0, 1], [0, 1], color='navy', lw=2, linestyle='--', label='No Discrimination')\n",
    "\n",
    "# Customizing the plot\n",
    "plt.xlim([0.0, 1.0])\n",
    "plt.ylim([0.0, 1.05])\n",
    "plt.xlabel('False Positive Rate')\n",
    "plt.ylabel('True Positive Rate')\n",
    "plt.title('Receiver Operating Characteristic (ROC) Curves')\n",
    "plt.legend(loc=\"lower right\")\n",
    "\n",
    "plt.show()"
   ]
  },
  {
   "cell_type": "code",
   "execution_count": null,
   "id": "971c29d4-4b8c-4229-9025-8363c4346d89",
   "metadata": {},
   "outputs": [],
   "source": [
    "\n",
    "from catboost import CatBoostClassifier, Pool\n",
    "\n",
    "# Get feature importances\n",
    "\n",
    "\n",
    "m2 = Models(X_train,Y_train)\n",
    "model = m2.model_Cat_Boost()\n",
    "feature_importances = model.get_feature_importance(Pool(X_train, label=Y_train))\n",
    "feature_names = x.columns\n",
    "\n",
    "# Create a DataFrame for plotting\n",
    "importance_df = pd.DataFrame({\n",
    "    'Features': feature_names,\n",
    "    'Importance': feature_importances\n",
    "})\n",
    "\n",
    "# Sort by importance\n",
    "importance_df = importance_df.sort_values(by='Importance', ascending=False)\n",
    "\n",
    "# Plot the feature importances\n",
    "plt.figure(figsize=(10, 6))\n",
    "plt.barh(importance_df['Features'], importance_df['Importance'], color='skyblue')\n",
    "plt.xlabel('F score')\n",
    "plt.ylabel('Features')\n",
    "plt.title('Feature Importances: CatBoost')\n",
    "plt.gca().invert_yaxis()  # To display the most important feature at the top\n",
    "plt.show()"
   ]
  },
  {
   "cell_type": "code",
   "execution_count": null,
   "id": "ef637eef-fb33-4578-8be5-f4efecbc159a",
   "metadata": {},
   "outputs": [],
   "source": [
    "# Get feature importances\n",
    "feature_importances = model.get_feature_importance(Pool(X_train, label=Y_train))\n",
    "feature_names = x.columns\n",
    "\n",
    "# Create a DataFrame for plotting\n",
    "importance_df = pd.DataFrame({\n",
    "    'Features': feature_names,\n",
    "    'Importance': feature_importances\n",
    "})\n",
    "\n",
    "# Sort by importance\n",
    "importance_df = importance_df.sort_values(by='Importance', ascending=True)\n",
    "\n",
    "# Plot the feature importances\n",
    "plt.figure(figsize=(8, 5))\n",
    "plt.barh(importance_df['Features'], importance_df['Importance'], color='skyblue')\n",
    "plt.xlabel('F score', fontsize=15)\n",
    "plt.ylabel('Features', fontsize=15)\n",
    "plt.title('plot_importance: importance_type=\"weighted\"', fontsize=15)\n",
    "\n",
    "# Add text labels for each bar, aligned to the right, with increased font size\n",
    "for i, v in enumerate(importance_df['Importance']):\n",
    "    plt.text(v , i, str(int(v)), color='black', va='center', fontsize=15)\n",
    "\n",
    "# Increase font size of tick labels\n",
    "plt.xticks(fontsize=15)\n",
    "plt.yticks(fontsize=15)\n",
    "\n",
    "plt.tight_layout()\n",
    "plt.show()"
   ]
  },
  {
   "cell_type": "code",
   "execution_count": null,
   "id": "919b4460-0864-416b-9200-d88712744ebe",
   "metadata": {},
   "outputs": [],
   "source": []
  }
 ],
 "metadata": {
  "kernelspec": {
   "display_name": "Python 3 (ipykernel)",
   "language": "python",
   "name": "python3"
  },
  "language_info": {
   "codemirror_mode": {
    "name": "ipython",
    "version": 3
   },
   "file_extension": ".py",
   "mimetype": "text/x-python",
   "name": "python",
   "nbconvert_exporter": "python",
   "pygments_lexer": "ipython3",
   "version": "3.10.12"
  }
 },
 "nbformat": 4,
 "nbformat_minor": 5
}
